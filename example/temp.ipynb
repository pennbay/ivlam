{
 "cells": [
  {
   "cell_type": "code",
   "execution_count": 1,
   "metadata": {},
   "outputs": [
    {
     "name": "stdout",
     "output_type": "stream",
     "text": [
      "/home/vscode/.local/lib/python3.12/site-packages/pylam/_fibby.cpython-312-x86_64-linux-gnu.so\n",
      "a = fib(n)\n",
      "\n",
      "Wrapper for ``fib``.\n",
      "\n",
      "Parameters\n",
      "----------\n",
      "n : input int\n",
      "\n",
      "Returns\n",
      "-------\n",
      "a : rank-1 array('d') with bounds (n)\n",
      "\n"
     ]
    },
    {
     "data": {
      "text/plain": [
       "array([ 0.,  1.,  1.,  2.,  3.,  5.,  8., 13.])"
      ]
     },
     "execution_count": 1,
     "metadata": {},
     "output_type": "execute_result"
    }
   ],
   "source": [
    "import inspect\n",
    "from pylam import _fibby\n",
    "\n",
    "print(inspect.getfile(_fibby))\n",
    "\n",
    "print(_fibby.fib.__doc__)\n",
    "_fibby.fib(8)"
   ]
  },
  {
   "cell_type": "code",
   "execution_count": 2,
   "metadata": {},
   "outputs": [
    {
     "name": "stdout",
     "output_type": "stream",
     "text": [
      "/home/vscode/.local/lib/python3.12/site-packages/pylam/_ivlam.cpython-312-x86_64-linux-gnu.so\n",
      "d = ivlam_getdirection(prograde,rveca,rvecb)\n",
      "\n",
      "Wrapper for ``ivlam_getdirection``.\n",
      "\n",
      "Parameters\n",
      "----------\n",
      "prograde : input int\n",
      "rveca : input rank-1 array('f') with bounds (3)\n",
      "rvecb : input rank-1 array('f') with bounds (3)\n",
      "\n",
      "Returns\n",
      "-------\n",
      "d : int\n",
      "\n",
      "1\n"
     ]
    }
   ],
   "source": [
    "import inspect\n",
    "from pylam import _ivlam\n",
    "\n",
    "print(inspect.getfile(_ivlam))\n",
    "\n",
    "print(_ivlam.ivlam_getdirection.__doc__)\n",
    "\n",
    "print(_ivlam.ivlam_getdirection(1,[1.,2.,3.],[2.,-3.,-4.]))"
   ]
  },
  {
   "cell_type": "code",
   "execution_count": 3,
   "metadata": {},
   "outputs": [
    {
     "name": "stdout",
     "output_type": "stream",
     "text": [
      "\n",
      "    This function calculates the direction between two vectors.\n",
      "\n",
      "    Parameters:\n",
      "    prograde (bool): if true/false, the output d represents prograde/retrograde solution \n",
      "    rveca input rank-1 array('f') with bounds (3): The initial position vector.\n",
      "    rvecb input rank-1 array('f') with bounds (3): The final position vector.\n",
      "\n",
      "    Returns:\n",
      "    d: The direction of travel. d=1 is 0<=theta<=pi, d=-1 i is pi<theta<2pi\n",
      "    \n",
      "1\n"
     ]
    }
   ],
   "source": [
    "from pylam import *\n",
    "print(ivlam.getdirection.__doc__)\n",
    "print(ivlam.getdirection(True,[1.,2.,3.],[2.,-3.,-4.]))"
   ]
  },
  {
   "cell_type": "code",
   "execution_count": 4,
   "metadata": {},
   "outputs": [
    {
     "name": "stdout",
     "output_type": "stream",
     "text": [
      "\n",
      "    This function calculates the direction between two vectors.\n",
      "\n",
      "    Parameters:\n",
      "    prograde (bool): if true/false, the output d represents prograde/retrograde solution \n",
      "    rveca input rank-1 array('f') with bounds (3): The initial position vector.\n",
      "    rvecb input rank-1 array('f') with bounds (3): The final position vector.\n",
      "\n",
      "    Returns:\n",
      "    d: The direction of travel. d=1 is 0<=theta<=pi, d=-1 i is pi<theta<2pi\n",
      "    \n",
      "1\n"
     ]
    }
   ],
   "source": [
    "import pylam\n",
    "print(pylam.getdirection.__doc__)\n",
    "print(pylam.getdirection(True,[1.,2.,3.],[2.,-3.,-4.]))"
   ]
  },
  {
   "cell_type": "code",
   "execution_count": 12,
   "metadata": {},
   "outputs": [
    {
     "name": "stdout",
     "output_type": "stream",
     "text": [
      "/home/vscode/.local/lib/python3.12/site-packages/pylam/_ivlam.cpython-312-x86_64-linux-gnu.so\n",
      "ivlam_exampledriver(coefpathplusfilename)\n",
      "\n",
      "Wrapper for ``ivlam_exampledriver``.\n",
      "\n",
      "Parameters\n",
      "----------\n",
      "coefpathplusfilename : input string(len=-1)\n",
      "\n"
     ]
    }
   ],
   "source": [
    "import inspect\n",
    "from pylam import _ivlam\n",
    "\n",
    "print(inspect.getfile(_ivlam))\n",
    "\n",
    "print(_ivlam.ivlam_exampledriver.__doc__)"
   ]
  }
 ],
 "metadata": {
  "kernelspec": {
   "display_name": "Python 3",
   "language": "python",
   "name": "python3"
  },
  "language_info": {
   "codemirror_mode": {
    "name": "ipython",
    "version": 3
   },
   "file_extension": ".py",
   "mimetype": "text/x-python",
   "name": "python",
   "nbconvert_exporter": "python",
   "pygments_lexer": "ipython3",
   "version": "3.12.0"
  }
 },
 "nbformat": 4,
 "nbformat_minor": 2
}
