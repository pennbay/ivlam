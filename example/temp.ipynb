{
 "cells": [
  {
   "cell_type": "code",
   "execution_count": 1,
   "metadata": {},
   "outputs": [
    {
     "ename": "ModuleNotFoundError",
     "evalue": "No module named 'tblam'",
     "output_type": "error",
     "traceback": [
      "\u001b[0;31m---------------------------------------------------------------------------\u001b[0m",
      "\u001b[0;31mModuleNotFoundError\u001b[0m                       Traceback (most recent call last)",
      "\u001b[1;32m/workspaces/pylambert/example/temp.ipynb Cell 1\u001b[0m line \u001b[0;36m2\n\u001b[1;32m      <a href='vscode-notebook-cell://dev-container%2B7b22686f737450617468223a222f686f6d652f73687570656e672f7265706f2f70796c616d62657274222c226c6f63616c446f636b6572223a66616c73652c22636f6e66696746696c65223a7b22246d6964223a312c2270617468223a222f686f6d652f73687570656e672f7265706f2f70796c616d626572742f2e646576636f6e7461696e65722f646576636f6e7461696e65722e6a736f6e222c22736368656d65223a227673636f64652d66696c65486f7374227d7d@ssh-remote%2Bps-shup/workspaces/pylambert/example/temp.ipynb#W0sdnNjb2RlLXJlbW90ZQ%3D%3D?line=0'>1</a>\u001b[0m \u001b[39mimport\u001b[39;00m \u001b[39minspect\u001b[39;00m\n\u001b[0;32m----> <a href='vscode-notebook-cell://dev-container%2B7b22686f737450617468223a222f686f6d652f73687570656e672f7265706f2f70796c616d62657274222c226c6f63616c446f636b6572223a66616c73652c22636f6e66696746696c65223a7b22246d6964223a312c2270617468223a222f686f6d652f73687570656e672f7265706f2f70796c616d626572742f2e646576636f6e7461696e65722f646576636f6e7461696e65722e6a736f6e222c22736368656d65223a227673636f64652d66696c65486f7374227d7d@ssh-remote%2Bps-shup/workspaces/pylambert/example/temp.ipynb#W0sdnNjb2RlLXJlbW90ZQ%3D%3D?line=1'>2</a>\u001b[0m \u001b[39mfrom\u001b[39;00m \u001b[39mtblam\u001b[39;00m \u001b[39mimport\u001b[39;00m _fibby\n\u001b[1;32m      <a href='vscode-notebook-cell://dev-container%2B7b22686f737450617468223a222f686f6d652f73687570656e672f7265706f2f70796c616d62657274222c226c6f63616c446f636b6572223a66616c73652c22636f6e66696746696c65223a7b22246d6964223a312c2270617468223a222f686f6d652f73687570656e672f7265706f2f70796c616d626572742f2e646576636f6e7461696e65722f646576636f6e7461696e65722e6a736f6e222c22736368656d65223a227673636f64652d66696c65486f7374227d7d@ssh-remote%2Bps-shup/workspaces/pylambert/example/temp.ipynb#W0sdnNjb2RlLXJlbW90ZQ%3D%3D?line=3'>4</a>\u001b[0m \u001b[39mprint\u001b[39m(inspect\u001b[39m.\u001b[39mgetfile(_fibby))\n\u001b[1;32m      <a href='vscode-notebook-cell://dev-container%2B7b22686f737450617468223a222f686f6d652f73687570656e672f7265706f2f70796c616d62657274222c226c6f63616c446f636b6572223a66616c73652c22636f6e66696746696c65223a7b22246d6964223a312c2270617468223a222f686f6d652f73687570656e672f7265706f2f70796c616d626572742f2e646576636f6e7461696e65722f646576636f6e7461696e65722e6a736f6e222c22736368656d65223a227673636f64652d66696c65486f7374227d7d@ssh-remote%2Bps-shup/workspaces/pylambert/example/temp.ipynb#W0sdnNjb2RlLXJlbW90ZQ%3D%3D?line=5'>6</a>\u001b[0m \u001b[39mprint\u001b[39m(_fibby\u001b[39m.\u001b[39mfib\u001b[39m.\u001b[39m\u001b[39m__doc__\u001b[39m)\n",
      "\u001b[0;31mModuleNotFoundError\u001b[0m: No module named 'tblam'"
     ]
    }
   ],
   "source": [
    "import inspect\n",
    "from tblam import _fibby\n",
    "\n",
    "print(inspect.getfile(_fibby))\n",
    "\n",
    "print(_fibby.fib.__doc__)\n",
    "_fibby.fib(8)"
   ]
  },
  {
   "cell_type": "code",
   "execution_count": 2,
   "metadata": {},
   "outputs": [
    {
     "name": "stdout",
     "output_type": "stream",
     "text": [
      "/home/vscode/.local/lib/python3.12/site-packages/tblam/_ivlam.cpython-312-x86_64-linux-gnu.so\n",
      "d = ivlam_getdirection(prograde,rveca,rvecb)\n",
      "\n",
      "Wrapper for ``ivlam_getdirection``.\n",
      "\n",
      "Parameters\n",
      "----------\n",
      "prograde : input int\n",
      "rveca : input rank-1 array('d') with bounds (3)\n",
      "rvecb : input rank-1 array('d') with bounds (3)\n",
      "\n",
      "Returns\n",
      "-------\n",
      "d : int\n",
      "\n",
      "-1\n"
     ]
    }
   ],
   "source": [
    "import inspect\n",
    "from tblam import _ivlam\n",
    "\n",
    "print(inspect.getfile(_ivlam))\n",
    "\n",
    "print(_ivlam.ivlam_getdirection.__doc__)\n",
    "\n",
    "print(_ivlam.ivlam_getdirection(1,[1.,2.,3.],[2.,-3.,-4.]))"
   ]
  },
  {
   "cell_type": "code",
   "execution_count": 3,
   "metadata": {},
   "outputs": [
    {
     "name": "stdout",
     "output_type": "stream",
     "text": [
      "\n",
      "    This function converts prograde/retrograde to the d variable\n",
      "\n",
      "    Parameters\n",
      "    ----------\n",
      "    prograde: bool : if true/false, the output d represents prograde/retrograde solution\n",
      "    rveca: input rank-1 array('d') with bounds (3): The initial position vector.\n",
      "    rvecb: input rank-1 array('d') with bounds (3): The final position vector.\n",
      "\n",
      "    Returns:\n",
      "    -------\n",
      "    d: The direction of travel. d=1 is 0<=theta<=pi, d=-1 i is pi<theta<2pi\n",
      "    \n",
      "-1\n"
     ]
    }
   ],
   "source": [
    "from tblam import *\n",
    "print(ivlam.getdirection.__doc__)\n",
    "print(ivlam.getdirection(True,[1.,2.,3.],[2.,-3.,-4.]))"
   ]
  },
  {
   "cell_type": "code",
   "execution_count": 4,
   "metadata": {},
   "outputs": [
    {
     "name": "stdout",
     "output_type": "stream",
     "text": [
      "\n",
      "    This function converts prograde/retrograde to the d variable\n",
      "\n",
      "    Parameters\n",
      "    ----------\n",
      "    prograde: bool : if true/false, the output d represents prograde/retrograde solution\n",
      "    rveca: input rank-1 array('d') with bounds (3): The initial position vector.\n",
      "    rvecb: input rank-1 array('d') with bounds (3): The final position vector.\n",
      "\n",
      "    Returns:\n",
      "    -------\n",
      "    d: The direction of travel. d=1 is 0<=theta<=pi, d=-1 i is pi<theta<2pi\n",
      "    \n",
      "-1\n"
     ]
    }
   ],
   "source": [
    "import tblam\n",
    "print(tblam.getdirection.__doc__)\n",
    "print(tblam.getdirection(True,[1.,2.,3.],[2.,-3.,-4.]))"
   ]
  },
  {
   "cell_type": "code",
   "execution_count": 7,
   "metadata": {},
   "outputs": [
    {
     "name": "stdout",
     "output_type": "stream",
     "text": [
      "v1vec,v2vec,inforeturnstatus,infohalfrevstatus,dzdyt,d2zdyt = ivlam_ntildewithderivs(r1vec,r2vec,tof,direction,ntilde,includesecondorder)\n",
      "\n",
      "Wrapper for ``ivlam_ntildewithderivs``.\n",
      "\n",
      "Parameters\n",
      "----------\n",
      "r1vec : input rank-1 array('d') with bounds (3)\n",
      "r2vec : input rank-1 array('d') with bounds (3)\n",
      "tof : input float\n",
      "direction : input int\n",
      "ntilde : input int\n",
      "includesecondorder : input int\n",
      "\n",
      "Returns\n",
      "-------\n",
      "v1vec : rank-1 array('d') with bounds (3)\n",
      "v2vec : rank-1 array('d') with bounds (3)\n",
      "inforeturnstatus : int\n",
      "infohalfrevstatus : int\n",
      "dzdyt : rank-2 array('d') with bounds (7,6)\n",
      "d2zdyt : rank-3 array('d') with bounds (7,7,6)\n",
      "\n"
     ]
    }
   ],
   "source": [
    "import inspect\n",
    "from tblam import _ivlam\n",
    "\n",
    "print(_ivlam.ivlam_ntildewithderivs.__doc__)"
   ]
  }
 ],
 "metadata": {
  "kernelspec": {
   "display_name": "Python 3",
   "language": "python",
   "name": "python3"
  },
  "language_info": {
   "codemirror_mode": {
    "name": "ipython",
    "version": 3
   },
   "file_extension": ".py",
   "mimetype": "text/x-python",
   "name": "python",
   "nbconvert_exporter": "python",
   "pygments_lexer": "ipython3",
   "version": "3.12.0"
  }
 },
 "nbformat": 4,
 "nbformat_minor": 2
}
