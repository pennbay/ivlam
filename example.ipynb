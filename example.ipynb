{
 "cells": [
  {
   "cell_type": "code",
   "execution_count": 1,
   "metadata": {},
   "outputs": [
    {
     "name": "stdout",
     "output_type": "stream",
     "text": [
      "/home/vscode/.local/lib/python3.12/site-packages/pylam/_fibby.cpython-312-x86_64-linux-gnu.so\n",
      "a = fib(n)\n",
      "\n",
      "Wrapper for ``fib``.\n",
      "\n",
      "Parameters\n",
      "----------\n",
      "n : input int\n",
      "\n",
      "Returns\n",
      "-------\n",
      "a : rank-1 array('d') with bounds (n)\n",
      "\n"
     ]
    },
    {
     "data": {
      "text/plain": [
       "array([ 0.,  1.,  1.,  2.,  3.,  5.,  8., 13.])"
      ]
     },
     "execution_count": 1,
     "metadata": {},
     "output_type": "execute_result"
    }
   ],
   "source": [
    "import inspect\n",
    "from pylam import _fibby\n",
    "\n",
    "print(inspect.getfile(_fibby))\n",
    "\n",
    "print(_fibby.fib.__doc__)\n",
    "_fibby.fib(8)"
   ]
  },
  {
   "cell_type": "code",
   "execution_count": 3,
   "metadata": {},
   "outputs": [
    {
     "name": "stdout",
     "output_type": "stream",
     "text": [
      "/workspaces/pylambert/_ivlam.cpython-312-x86_64-linux-gnu.so\n",
      "d = ivlam_getdirection(prograde,rveca,rvecb)\n",
      "\n",
      "Wrapper for ``ivlam_getdirection``.\n",
      "\n",
      "Parameters\n",
      "----------\n",
      "prograde : input int\n",
      "rveca : input rank-1 array('d') with bounds (3)\n",
      "rvecb : input rank-1 array('d') with bounds (3)\n",
      "\n",
      "Returns\n",
      "-------\n",
      "d : int\n",
      "\n",
      "-1\n"
     ]
    }
   ],
   "source": [
    "import inspect\n",
    "# from pylam import _ivlam\n",
    "import _ivlam\n",
    "\n",
    "print(inspect.getfile(_ivlam))\n",
    "\n",
    "print(_ivlam.ivlam_getdirection.__doc__)\n",
    "\n",
    "print(_ivlam.ivlam_getdirection(1,[1.,2.,3.],[2.,-3.,-4.]))"
   ]
  }
 ],
 "metadata": {
  "kernelspec": {
   "display_name": "Python 3",
   "language": "python",
   "name": "python3"
  },
  "language_info": {
   "codemirror_mode": {
    "name": "ipython",
    "version": 3
   },
   "file_extension": ".py",
   "mimetype": "text/x-python",
   "name": "python",
   "nbconvert_exporter": "python",
   "pygments_lexer": "ipython3",
   "version": "3.12.0"
  }
 },
 "nbformat": 4,
 "nbformat_minor": 2
}
